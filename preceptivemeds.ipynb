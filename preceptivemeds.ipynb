{
  "cells": [
    {
      "cell_type": "markdown",
      "metadata": {
        "id": "AVCgZzvta-GF"
      },
      "source": [
        "Set Up and Import Libraries"
      ]
    },
    {
      "cell_type": "code",
      "execution_count": null,
      "metadata": {
        "id": "AfqL3hBxVtdA"
      },
      "outputs": [],
      "source": [
        "import pandas as pd\n",
        "import numpy as np\n",
        "from sklearn.model_selection import train_test_split\n",
        "from sklearn.ensemble import RandomForestClassifier, RandomForestRegressor\n",
        "from sklearn.preprocessing import StandardScaler, OneHotEncoder\n",
        "from sklearn.compose import ColumnTransformer\n",
        "import pandas as pd\n",
        "import numpy as np\n",
        "from sklearn.model_selection import train_test_split\n",
        "from sklearn.ensemble import RandomForestClassifier, RandomForestRegressor\n",
        "from sklearn.preprocessing import StandardScaler, OneHotEncoder\n",
        "from sklearn.compose import ColumnTransformer\n",
        "from sklearn.pipeline import Pipeline\n",
        "import joblib"
      ]
    },
    {
      "cell_type": "code",
      "execution_count": null,
      "metadata": {
        "id": "eoOtP9ZuV2Y3"
      },
      "outputs": [],
      "source": [
        "# Generate synthetic dataset for demonstration\n",
        "np.random.seed(42)"
      ]
    },
    {
      "cell_type": "markdown",
      "metadata": {
        "id": "ao0fmh6dbCi2"
      },
      "source": [
        "Generate Synthetic Genetic Data (First Section)"
      ]
    },
    {
      "cell_type": "code",
      "execution_count": null,
      "metadata": {
        "id": "2GkqZ8-aWpsz"
      },
      "outputs": [],
      "source": [
        "def generate_synthetic_genetic_data(n_samples=1000):\n",
        "    \"\"\"\n",
        "    Generate synthetic patient data including genetic markers and clinical factors\n",
        "    \"\"\"\n",
        "    # Simulating genetic markers related to drug metabolism\n",
        "    # CYP2D6 (drug metabolism), IFITM3 (flu susceptibility), IL17 (immune response)\n",
        "    genetic_markers = {\n",
        "        'CYP2D6_activity': np.random.choice(['poor', 'intermediate', 'normal', 'ultrarapid'], n_samples),\n",
        "        'IFITM3_rs12252': np.random.choice(['CC', 'CT', 'TT'], n_samples),\n",
        "        'IL17_expression': np.random.normal(50, 15, n_samples),\n",
        "        'ACE2_receptor': np.random.normal(100, 25, n_samples),\n",
        "        'HLA_type': np.random.choice(['A', 'B', 'C', 'DR', 'DQ'], n_samples)\n",
        "    }\n",
        "\n",
        "    # Clinical factors\n",
        "    clinical_factors = {\n",
        "        'age': np.random.randint(1, 90, n_samples),\n",
        "        'weight_kg': np.random.normal(70, 15, n_samples).clip(min=10),\n",
        "        'height_cm': np.random.normal(170, 15, n_samples).clip(min=50),\n",
        "        'sex': np.random.choice(['M', 'F'], n_samples),\n",
        "        'liver_function': np.random.normal(1.0, 0.2, n_samples).clip(min=0.3, max=1.5),\n",
        "        'kidney_function': np.random.normal(1.0, 0.2, n_samples).clip(min=0.3, max=1.5),\n",
        "        'symptom_severity': np.random.randint(1, 11, n_samples),\n",
        "        'fever_celsius': np.random.normal(38.5, 1.0, n_samples),\n",
        "        'days_since_symptoms': np.random.randint(0, 8, n_samples)\n",
        "    }\n",
        "\n",
        "    # Combine into a dataframe\n",
        "    df = pd.DataFrame({**genetic_markers, **clinical_factors})\n",
        "\n",
        "    # Calculate BMI\n",
        "    df['bmi'] = df['weight_kg'] / ((df['height_cm']/100) ** 2)\n",
        "\n",
        "    return df"
      ]
    },
    {
      "cell_type": "markdown",
      "metadata": {
        "id": "vdUCw8RnbHca"
      },
      "source": [
        "Generate Synthetic Genetic Data (Medication Rules)"
      ]
    },
    {
      "cell_type": "code",
      "execution_count": null,
      "metadata": {
        "id": "4rasg8nEaclX"
      },
      "outputs": [],
      "source": [
        "def add_medication_recommendations(df):\n",
        "    \"\"\"\n",
        "    Add medication recommendations based on genetic and clinical factors\n",
        "    \"\"\"\n",
        "    # Medication choice logic (simplified for demo)\n",
        "    conditions = [\n",
        "        # Oseltamivir (Tamiflu) works well for normal metabolizers with good kidney function\n",
        "        (df['CYP2D6_activity'].isin(['normal', 'ultrarapid']) &\n",
        "         (df['kidney_function'] > 0.7) &\n",
        "         (df['symptom_severity'] >= 4)),\n",
        "\n",
        "        # Zanamivir (Relenza) better for poor metabolizers or kidney issues\n",
        "        ((df['CYP2D6_activity'] == 'poor') |\n",
        "         (df['kidney_function'] <= 0.7) |\n",
        "         (df['liver_function'] <= 0.7)),\n",
        "\n",
        "        # Baloxavir (Xofluza) good for early treatment in otherwise healthy adults\n",
        "        ((df['days_since_symptoms'] <= 2) &\n",
        "         (df['age'] >= 12) &\n",
        "         (df['symptom_severity'] >= 5) &\n",
        "         (df['liver_function'] > 0.8))\n",
        "    ]\n",
        "\n",
        "    medications = ['oseltamivir', 'zanamivir', 'baloxavir']\n",
        "    df['recommended_medication'] = np.select(conditions, medications, default='supportive_care')\n",
        "\n",
        "    return df"
      ]
    },
    {
      "cell_type": "markdown",
      "metadata": {
        "id": "dgBYUVRnbLLr"
      },
      "source": [
        "Generate Synthetic Genetic Data (Dosage Calculations)"
      ]
    },
    {
      "cell_type": "code",
      "execution_count": null,
      "metadata": {
        "id": "xbrcZ9ZVajC2"
      },
      "outputs": [],
      "source": [
        "def calculate_dosages(df):\n",
        "    \"\"\"\n",
        "    Calculate appropriate dosages based on patient characteristics\n",
        "    \"\"\"\n",
        "    # Oseltamivir dosage (usually 30-75mg based on weight)\n",
        "    base_oseltamivir = np.where(df['age'] < 12,\n",
        "                               df['weight_kg'] * 2,  # 2mg/kg for children\n",
        "                               75)                   # 75mg standard for adults\n",
        "\n",
        "    metabolism_factor = np.select(\n",
        "        [df['CYP2D6_activity'] == 'poor',\n",
        "         df['CYP2D6_activity'] == 'intermediate',\n",
        "         df['CYP2D6_activity'] == 'normal',\n",
        "         df['CYP2D6_activity'] == 'ultrarapid'],\n",
        "        [0.7, 0.85, 1.0, 1.15],\n",
        "        default=1.0\n",
        "    )\n",
        "\n",
        "    kidney_factor = np.clip(df['kidney_function'], 0.5, 1.0)\n",
        "    severity_factor = 1.0 + (df['symptom_severity'] - 5) * 0.05\n",
        "\n",
        "    df['oseltamivir_dosage'] = np.round(\n",
        "        base_oseltamivir * metabolism_factor * kidney_factor * severity_factor, -1)\n",
        "    df.loc[df['oseltamivir_dosage'] > 90, 'oseltamivir_dosage'] = 90  # Cap at 90mg\n",
        "    df.loc[df['oseltamivir_dosage'] < 30, 'oseltamivir_dosage'] = 30  # Minimum 30mg\n",
        "\n",
        "    # Zanamivir dosage (fixed 10mg for inhalation)\n",
        "    df['zanamivir_dosage'] = 10\n",
        "\n",
        "    # Baloxavir dosage (weight-based)\n",
        "    df['baloxavir_dosage'] = np.where(df['weight_kg'] < 80, 40, 80)\n",
        "\n",
        "    # Set the dosage to match the recommended medication\n",
        "    df['recommended_dosage'] = np.select(\n",
        "        [df['recommended_medication'] == 'oseltamivir',\n",
        "         df['recommended_medication'] == 'zanamivir',\n",
        "         df['recommended_medication'] == 'baloxavir'],\n",
        "        [df['oseltamivir_dosage'],\n",
        "         df['zanamivir_dosage'],\n",
        "         df['baloxavir_dosage']],\n",
        "        default=0  # Supportive care has no medication dosage\n",
        "    )\n",
        "\n",
        "    return df"
      ]
    },
    {
      "cell_type": "markdown",
      "metadata": {
        "id": "o2cyeaX-bPEp"
      },
      "source": [
        "Generate Synthetic Genetic Data (Complete Function)"
      ]
    },
    {
      "cell_type": "code",
      "execution_count": null,
      "metadata": {
        "colab": {
          "base_uri": "https://localhost:8080/"
        },
        "id": "rlNYbTQnavgb",
        "outputId": "e0bdff80-c205-412e-e5a5-246c516afd9e"
      },
      "outputs": [
        {
          "name": "stdout",
          "output_type": "stream",
          "text": [
            "Dataset generated and saved as 'flu_medication_genetic_dataset.csv'\n"
          ]
        }
      ],
      "source": [
        "def generate_complete_dataset(n_samples=1000):\n",
        "    \"\"\"\n",
        "    Generate complete synthetic dataset with genetic markers, clinical factors,\n",
        "    medication recommendations, dosages, and simulated effectiveness\n",
        "    \"\"\"\n",
        "    # Generate base data\n",
        "    df = generate_synthetic_genetic_data(n_samples)\n",
        "\n",
        "    # Add medication recommendations\n",
        "    df = add_medication_recommendations(df)\n",
        "\n",
        "    # Calculate appropriate dosages\n",
        "    df = calculate_dosages(df)\n",
        "\n",
        "    # Add simulated treatment effectiveness\n",
        "    if_match_effect = np.random.normal(0.8, 0.1, n_samples)\n",
        "    if_mismatch_effect = np.random.normal(0.5, 0.2, n_samples)\n",
        "\n",
        "    df['treatment_effectiveness'] = np.where(\n",
        "        df['recommended_medication'] != 'supportive_care',\n",
        "        if_match_effect,\n",
        "        if_mismatch_effect\n",
        "    ) * 100\n",
        "\n",
        "    # Keep only the needed columns for the final dataset\n",
        "    final_columns = [\n",
        "        'CYP2D6_activity', 'IFITM3_rs12252', 'IL17_expression', 'ACE2_receptor', 'HLA_type',\n",
        "        'age', 'weight_kg', 'height_cm', 'sex', 'bmi', 'liver_function', 'kidney_function',\n",
        "        'symptom_severity', 'fever_celsius', 'days_since_symptoms',\n",
        "        'recommended_medication', 'recommended_dosage', 'treatment_effectiveness'\n",
        "    ]\n",
        "\n",
        "    return df[final_columns]\n",
        "\n",
        "# Generate and save dataset\n",
        "df = generate_complete_dataset(1500)\n",
        "df.to_csv('flu_medication_genetic_dataset.csv', index=False)\n",
        "print(\"Dataset generated and saved as 'flu_medication_genetic_dataset.csv'\")"
      ]
    },
    {
      "cell_type": "markdown",
      "metadata": {
        "id": "j9Ol412AbXS0"
      },
      "source": [
        "Data Preparation for Model Training"
      ]
    },
    {
      "cell_type": "code",
      "execution_count": null,
      "metadata": {
        "id": "mEl8kNjGbVT-"
      },
      "outputs": [],
      "source": [
        "# Prepare data for model training\n",
        "def prepare_data(df):\n",
        "    \"\"\"\n",
        "    Prepare data for model training by splitting features and targets\n",
        "    \"\"\"\n",
        "    # Split features and targets\n",
        "    X = df.drop(['recommended_medication', 'recommended_dosage', 'treatment_effectiveness'], axis=1)\n",
        "    y_med = df['recommended_medication']\n",
        "    y_dosage = df['recommended_dosage']\n",
        "\n",
        "    # Define categorical and numeric features\n",
        "    categorical_features = ['CYP2D6_activity', 'IFITM3_rs12252', 'HLA_type', 'sex']\n",
        "    numeric_features = [col for col in X.columns if col not in categorical_features]\n",
        "\n",
        "    # Create preprocessor\n",
        "    preprocessor = ColumnTransformer(\n",
        "        transformers=[\n",
        "            ('num', StandardScaler(), numeric_features),\n",
        "            ('cat', OneHotEncoder(handle_unknown='ignore'), categorical_features)\n",
        "        ])\n",
        "\n",
        "    # Split data\n",
        "    X_train, X_test, y_med_train, y_med_test, y_dosage_train, y_dosage_test = train_test_split(\n",
        "        X, y_med, y_dosage, test_size=0.2, random_state=42)\n",
        "\n",
        "    return X_train, X_test, y_med_train, y_med_test, y_dosage_train, y_dosage_test, preprocessor\n",
        "\n",
        "# Prepare the data\n",
        "X_train, X_test, y_med_train, y_med_test, y_dosage_train, y_dosage_test, preprocessor = prepare_data(df)"
      ]
    },
    {
      "cell_type": "markdown",
      "metadata": {
        "id": "Tr9zOKaKbsuU"
      },
      "source": [
        "Medication Recommendation Model"
      ]
    },
    {
      "cell_type": "code",
      "execution_count": null,
      "metadata": {
        "colab": {
          "base_uri": "https://localhost:8080/"
        },
        "id": "7ngQW4X8bk18",
        "outputId": "0a197984-534a-4264-d677-7de07304f70e"
      },
      "outputs": [
        {
          "name": "stdout",
          "output_type": "stream",
          "text": [
            "Medication recommendation model accuracy: 1.0000\n",
            "Medication model saved as 'flu_medication_model.pkl'\n"
          ]
        }
      ],
      "source": [
        "def build_medication_model(X_train, y_med_train, preprocessor):\n",
        "    \"\"\"\n",
        "    Build and train medication recommendation model\n",
        "    \"\"\"\n",
        "    # Create pipeline for medication recommendation\n",
        "    med_pipeline = Pipeline([\n",
        "        ('preprocessor', preprocessor),\n",
        "        ('classifier', RandomForestClassifier(n_estimators=100, random_state=42))\n",
        "    ])\n",
        "\n",
        "    # Train model\n",
        "    med_pipeline.fit(X_train, y_med_train)\n",
        "\n",
        "    return med_pipeline\n",
        "\n",
        "# Build medication model\n",
        "med_model = build_medication_model(X_train, y_med_train, preprocessor)\n",
        "\n",
        "# Evaluate medication model\n",
        "med_accuracy = med_model.score(X_test, y_med_test)\n",
        "print(f\"Medication recommendation model accuracy: {med_accuracy:.4f}\")\n",
        "\n",
        "# Save model\n",
        "joblib.dump(med_model, 'flu_medication_model.pkl')\n",
        "print(\"Medication model saved as 'flu_medication_model.pkl'\")"
      ]
    },
    {
      "cell_type": "markdown",
      "metadata": {
        "id": "jbBc5YfAb0oA"
      },
      "source": [
        "Dosage Prediction Model"
      ]
    },
    {
      "cell_type": "code",
      "execution_count": null,
      "metadata": {
        "colab": {
          "base_uri": "https://localhost:8080/"
        },
        "id": "FZyM63-bby1d",
        "outputId": "8918c7df-008f-43f1-eeef-84e101a47a96"
      },
      "outputs": [
        {
          "name": "stdout",
          "output_type": "stream",
          "text": [
            "Dosage prediction model R² score: 0.9973\n",
            "Dosage model saved as 'flu_dosage_model.pkl'\n"
          ]
        }
      ],
      "source": [
        "def build_dosage_model(X_train, y_med_train, y_dosage_train, preprocessor):\n",
        "    \"\"\"\n",
        "    Build and train dosage prediction model (only for patients who need medication)\n",
        "    \"\"\"\n",
        "    # Only train on rows where medication is recommended (not supportive care)\n",
        "    mask_train = y_med_train != 'supportive_care'\n",
        "\n",
        "    if sum(mask_train) > 0:  # Make sure we have data to train on\n",
        "        dosage_pipeline = Pipeline([\n",
        "            ('preprocessor', preprocessor),\n",
        "            ('regressor', RandomForestRegressor(n_estimators=100, random_state=42))\n",
        "        ])\n",
        "\n",
        "        # Train model\n",
        "        dosage_pipeline.fit(X_train[mask_train], y_dosage_train[mask_train])\n",
        "\n",
        "        return dosage_pipeline\n",
        "    else:\n",
        "        print(\"No medication recommendations in training data.\")\n",
        "        return None\n",
        "\n",
        "# Build dosage model\n",
        "dosage_model = build_dosage_model(X_train, y_med_train, y_dosage_train, preprocessor)\n",
        "\n",
        "# Evaluate dosage model\n",
        "if dosage_model is not None:\n",
        "    mask_test = y_med_test != 'supportive_care'\n",
        "    dosage_r2 = dosage_model.score(X_test[mask_test], y_dosage_test[mask_test])\n",
        "    print(f\"Dosage prediction model R² score: {dosage_r2:.4f}\")\n",
        "\n",
        "    # Save model\n",
        "    joblib.dump(dosage_model, 'flu_dosage_model.pkl')\n",
        "    print(\"Dosage model saved as 'flu_dosage_model.pkl'\")"
      ]
    },
    {
      "cell_type": "markdown",
      "metadata": {
        "id": "CHoO5brhcDEO"
      },
      "source": [
        "Prediction Function for New Patients"
      ]
    },
    {
      "cell_type": "code",
      "execution_count": null,
      "metadata": {
        "id": "3Gz1SrR6cAFS"
      },
      "outputs": [],
      "source": [
        "def predict_flu_medication(patient_data):\n",
        "    \"\"\"\n",
        "    Predict medication and dosage for a new patient\n",
        "\n",
        "    Args:\n",
        "        patient_data: DataFrame containing patient's genetic and clinical data\n",
        "                      with the same columns as the training data\n",
        "\n",
        "    Returns:\n",
        "        dict: Containing recommended medication and dosage\n",
        "    \"\"\"\n",
        "    # Load models\n",
        "    med_model = joblib.load('flu_medication_model.pkl')\n",
        "    dosage_model = joblib.load('flu_dosage_model.pkl')\n",
        "\n",
        "    # Predict medication\n",
        "    medication = med_model.predict(patient_data)[0]\n",
        "\n",
        "    # If supportive care, no dosage needed\n",
        "    if medication == 'supportive_care':\n",
        "        return {\n",
        "            'recommended_medication': medication,\n",
        "            'recommended_dosage': 0,\n",
        "            'recommendation': \"Supportive care only (rest, fluids, antipyretics as needed)\"\n",
        "        }\n",
        "\n",
        "    # Predict dosage\n",
        "    dosage = round(dosage_model.predict(patient_data)[0], 1)\n",
        "\n",
        "    # Format recommendation\n",
        "    instructions = {\n",
        "        'oseltamivir': f\"{dosage}mg twice daily for 5 days\",\n",
        "        'zanamivir': f\"{dosage}mg by inhalation twice daily for 5 days\",\n",
        "        'baloxavir': f\"Single dose of {dosage}mg\"\n",
        "    }\n",
        "\n",
        "    return {\n",
        "        'recommended_medication': medication,\n",
        "        'recommended_dosage': dosage,\n",
        "        'recommendation': f\"{medication.capitalize()}: {instructions[medication]}\"\n",
        "    }"
      ]
    },
    {
      "cell_type": "markdown",
      "metadata": {
        "id": "Q-8bS2qvcP70"
      },
      "source": [
        "Example Usage with a Sample Patient"
      ]
    },
    {
      "cell_type": "code",
      "execution_count": null,
      "metadata": {
        "id": "h7WOvTaodxa4"
      },
      "outputs": [],
      "source": [
        "def get_genetic_information():\n",
        "    \"\"\"\n",
        "    Get patient's genetic information from user input\n",
        "    \"\"\"\n",
        "    print(\"\\n--- Genetic Information ---\")\n",
        "\n",
        "    # CYP2D6 activity\n",
        "    print(\"\\nCYP2D6 activity (affects drug metabolism):\")\n",
        "    print(\"1. Poor metabolizer\")\n",
        "    print(\"2. Intermediate metabolizer\")\n",
        "    print(\"3. Normal metabolizer\")\n",
        "    print(\"4. Ultrarapid metabolizer\")\n",
        "    cyp2d6_options = {1: 'poor', 2: 'intermediate', 3: 'normal', 4: 'ultrarapid'}\n",
        "    while True:\n",
        "        try:\n",
        "            cyp2d6_choice = int(input(\"Enter option (1-4): \"))\n",
        "            if 1 <= cyp2d6_choice <= 4:\n",
        "                cyp2d6_activity = cyp2d6_options[cyp2d6_choice]\n",
        "                break\n",
        "            else:\n",
        "                print(\"Please enter a number between 1 and 4.\")\n",
        "        except ValueError:\n",
        "            print(\"Please enter a valid number.\")\n",
        "\n",
        "    # IFITM3 variant\n",
        "    print(\"\\nIFITM3 rs12252 variant (affects flu susceptibility):\")\n",
        "    print(\"1. CC (higher risk)\")\n",
        "    print(\"2. CT (moderate risk)\")\n",
        "    print(\"3. TT (lower risk)\")\n",
        "    ifitm3_options = {1: 'CC', 2: 'CT', 3: 'TT'}\n",
        "    while True:\n",
        "        try:\n",
        "            ifitm3_choice = int(input(\"Enter option (1-3): \"))\n",
        "            if 1 <= ifitm3_choice <= 3:\n",
        "                ifitm3_rs12252 = ifitm3_options[ifitm3_choice]\n",
        "                break\n",
        "            else:\n",
        "                print(\"Please enter a number between 1 and 3.\")\n",
        "        except ValueError:\n",
        "            print(\"Please enter a valid number.\")\n",
        "\n",
        "    # IL17 expression\n",
        "    while True:\n",
        "        try:\n",
        "            il17_expression = float(input(\"\\nIL17 expression level (normal range 35-65): \"))\n",
        "            if 0 <= il17_expression <= 100:\n",
        "                break\n",
        "            else:\n",
        "                print(\"Please enter a value between 0 and 100.\")\n",
        "        except ValueError:\n",
        "            print(\"Please enter a valid number.\")\n",
        "\n",
        "    # ACE2 receptor\n",
        "    while True:\n",
        "        try:\n",
        "            ace2_receptor = float(input(\"\\nACE2 receptor density (normal range 75-125): \"))\n",
        "            if 0 <= ace2_receptor <= 200:\n",
        "                break\n",
        "            else:\n",
        "                print(\"Please enter a value between 0 and 200.\")\n",
        "        except ValueError:\n",
        "            print(\"Please enter a valid number.\")\n",
        "\n",
        "    # HLA type\n",
        "    print(\"\\nHLA type (immune system marker):\")\n",
        "    print(\"1. Type A\")\n",
        "    print(\"2. Type B\")\n",
        "    print(\"3. Type C\")\n",
        "    print(\"4. Type DR\")\n",
        "    print(\"5. Type DQ\")\n",
        "    hla_options = {1: 'A', 2: 'B', 3: 'C', 4: 'DR', 5: 'DQ'}\n",
        "    while True:\n",
        "        try:\n",
        "            hla_choice = int(input(\"Enter option (1-5): \"))\n",
        "            if 1 <= hla_choice <= 5:\n",
        "                hla_type = hla_options[hla_choice]\n",
        "                break\n",
        "            else:\n",
        "                print(\"Please enter a number between 1 and 5.\")\n",
        "        except ValueError:\n",
        "            print(\"Please enter a valid number.\")\n",
        "\n",
        "    return {\n",
        "        'CYP2D6_activity': cyp2d6_activity,\n",
        "        'IFITM3_rs12252': ifitm3_rs12252,\n",
        "        'IL17_expression': il17_expression,\n",
        "        'ACE2_receptor': ace2_receptor,\n",
        "        'HLA_type': hla_type\n",
        "    }"
      ]
    },
    {
      "cell_type": "code",
      "execution_count": null,
      "metadata": {
        "id": "Dz385v6zBEnX"
      },
      "outputs": [],
      "source": [
        "def get_basic_clinical_information():\n",
        "    \"\"\"\n",
        "    Get patient's basic clinical information (age, weight, height, sex)\n",
        "    \"\"\"\n",
        "    print(\"\\n--- Clinical Information ---\")\n",
        "\n",
        "    # Age\n",
        "    while True:\n",
        "        try:\n",
        "            age = int(input(\"\\nPatient age (years): \"))\n",
        "            if 0 <= age <= 120:\n",
        "                break\n",
        "            else:\n",
        "                print(\"Please enter a valid age between 0 and 120.\")\n",
        "        except ValueError:\n",
        "            print(\"Please enter a valid number.\")\n",
        "\n",
        "    # Weight\n",
        "    while True:\n",
        "        try:\n",
        "            weight_kg = float(input(\"\\nPatient weight (kg): \"))\n",
        "            if 2 <= weight_kg <= 300:\n",
        "                break\n",
        "            else:\n",
        "                print(\"Please enter a valid weight between 2 and 300 kg.\")\n",
        "        except ValueError:\n",
        "            print(\"Please enter a valid number.\")\n",
        "\n",
        "    # Height\n",
        "    while True:\n",
        "        try:\n",
        "            height_cm = float(input(\"\\nPatient height (cm): \"))\n",
        "            if 40 <= height_cm <= 250:\n",
        "                break\n",
        "            else:\n",
        "                print(\"Please enter a valid height between 40 and 250 cm.\")\n",
        "        except ValueError:\n",
        "            print(\"Please enter a valid number.\")\n",
        "\n",
        "    # Sex\n",
        "    print(\"\\nBiological sex:\")\n",
        "    print(\"1. Male\")\n",
        "    print(\"2. Female\")\n",
        "    while True:\n",
        "        try:\n",
        "            sex_choice = int(input(\"Enter option (1-2): \"))\n",
        "            if sex_choice == 1:\n",
        "                sex = 'M'\n",
        "                break\n",
        "            elif sex_choice == 2:\n",
        "                sex = 'F'\n",
        "                break\n",
        "            else:\n",
        "                print(\"Please enter 1 for Male or 2 for Female.\")\n",
        "        except ValueError:\n",
        "            print(\"Please enter a valid number.\")\n",
        "\n",
        "    # Calculate BMI\n",
        "    bmi = weight_kg / ((height_cm/100) ** 2)\n",
        "\n",
        "    return {\n",
        "        'age': age,\n",
        "        'weight_kg': weight_kg,\n",
        "        'height_cm': height_cm,\n",
        "        'sex': sex,\n",
        "        'bmi': bmi\n",
        "    }"
      ]
    },
    {
      "cell_type": "code",
      "execution_count": null,
      "metadata": {
        "id": "x2ysC0XgBJeb"
      },
      "outputs": [],
      "source": [
        "def get_medical_status_information():\n",
        "    \"\"\"\n",
        "    Get patient's current medical status (liver/kidney function, symptoms)\n",
        "    \"\"\"\n",
        "    # Liver function\n",
        "    while True:\n",
        "        try:\n",
        "            liver_function = float(input(\"\\nLiver function score (0.3-1.5, where 1.0 is normal): \"))\n",
        "            if 0.3 <= liver_function <= 1.5:\n",
        "                break\n",
        "            else:\n",
        "                print(\"Please enter a value between 0.3 and 1.5.\")\n",
        "        except ValueError:\n",
        "            print(\"Please enter a valid number.\")\n",
        "\n",
        "    # Kidney function\n",
        "    while True:\n",
        "        try:\n",
        "            kidney_function = float(input(\"\\nKidney function score (0.3-1.5, where 1.0 is normal): \"))\n",
        "            if 0.3 <= kidney_function <= 1.5:\n",
        "                break\n",
        "            else:\n",
        "                print(\"Please enter a value between 0.3 and 1.5.\")\n",
        "        except ValueError:\n",
        "            print(\"Please enter a valid number.\")\n",
        "\n",
        "    # Symptom severity\n",
        "    while True:\n",
        "        try:\n",
        "            symptom_severity = int(input(\"\\nSymptom severity (1-10, where 10 is most severe): \"))\n",
        "            if 1 <= symptom_severity <= 10:\n",
        "                break\n",
        "            else:\n",
        "                print(\"Please enter a value between 1 and 10.\")\n",
        "        except ValueError:\n",
        "            print(\"Please enter a valid number.\")\n",
        "\n",
        "    # Fever\n",
        "    while True:\n",
        "        try:\n",
        "            fever_celsius = float(input(\"\\nFever temperature (°C): \"))\n",
        "            if 35 <= fever_celsius <= 42:\n",
        "                break\n",
        "            else:\n",
        "                print(\"Please enter a valid temperature between 35 and 42 °C.\")\n",
        "        except ValueError:\n",
        "            print(\"Please enter a valid number.\")\n",
        "\n",
        "    # Days since symptoms\n",
        "    while True:\n",
        "        try:\n",
        "            days_since_symptoms = int(input(\"\\nDays since symptoms first appeared: \"))\n",
        "            if 0 <= days_since_symptoms <= 14:\n",
        "                break\n",
        "            else:\n",
        "                print(\"Please enter a value between 0 and 14 days.\")\n",
        "        except ValueError:\n",
        "            print(\"Please enter a valid number.\")\n",
        "\n",
        "    return {\n",
        "        'liver_function': liver_function,\n",
        "        'kidney_function': kidney_function,\n",
        "        'symptom_severity': symptom_severity,\n",
        "        'fever_celsius': fever_celsius,\n",
        "        'days_since_symptoms': days_since_symptoms\n",
        "    }"
      ]
    },
    {
      "cell_type": "code",
      "execution_count": null,
      "metadata": {
        "id": "6Bvwh1jWBN4F"
      },
      "outputs": [],
      "source": [
        "def get_user_input():\n",
        "    \"\"\"\n",
        "    Get complete patient data from user input\n",
        "    \"\"\"\n",
        "    print(\"\\n==== FLU MEDICATION RECOMMENDATION SYSTEM ====\")\n",
        "    print(\"Please enter the patient's information:\")\n",
        "\n",
        "    # Get genetic information\n",
        "    genetic_info = get_genetic_information()\n",
        "\n",
        "    # Get basic clinical information\n",
        "    clinical_info = get_basic_clinical_information()\n",
        "\n",
        "    # Get medical status information\n",
        "    medical_status = get_medical_status_information()\n",
        "\n",
        "    # Combine all data\n",
        "    patient_data = {**genetic_info, **clinical_info, **medical_status}\n",
        "\n",
        "    # Convert to DataFrame\n",
        "    patient_df = pd.DataFrame({key: [value] for key, value in patient_data.items()})\n",
        "\n",
        "    return patient_df"
      ]
    },
    {
      "cell_type": "code",
      "execution_count": null,
      "metadata": {
        "id": "0Y4YXS2kBQ7r"
      },
      "outputs": [],
      "source": [
        "def user_prediction_interface():\n",
        "    \"\"\"\n",
        "    Interactive interface for user to input patient data and get predictions\n",
        "    \"\"\"\n",
        "    print(\"\\n\" + \"=\"*50)\n",
        "    print(\"FLU MEDICATION AND DOSAGE PREDICTION SYSTEM\")\n",
        "    print(\"=\"*50)\n",
        "\n",
        "    # Check if models exist\n",
        "    try:\n",
        "        med_model = joblib.load('flu_medication_model.pkl')\n",
        "        dosage_model = joblib.load('flu_dosage_model.pkl')\n",
        "    except FileNotFoundError:\n",
        "        print(\"Error: Model files not found. Please run the system to generate models first.\")\n",
        "        return\n",
        "\n",
        "    while True:\n",
        "        # Get patient data from user\n",
        "        patient_data = get_user_input()\n",
        "\n",
        "        # Make prediction\n",
        "        result = predict_flu_medication(patient_data)\n",
        "\n",
        "        # Display results\n",
        "        display_results(result)\n",
        "\n",
        "        # Ask if user wants to make another prediction\n",
        "        again = input(\"\\nWould you like to enter another patient? (y/n): \").lower()\n",
        "        if again != 'y':\n",
        "            print(\"\\nThank you for using the Flu Medication Prediction System.\")\n",
        "            break"
      ]
    },
    {
      "cell_type": "code",
      "execution_count": null,
      "metadata": {
        "id": "NAbqM6ZXBUWA"
      },
      "outputs": [],
      "source": [
        "def display_results(result):\n",
        "    \"\"\"\n",
        "    Display prediction results in a user-friendly format\n",
        "    \"\"\"\n",
        "    print(\"\\n\" + \"=\"*50)\n",
        "    print(\"RECOMMENDATION RESULTS\")\n",
        "    print(\"=\"*50)\n",
        "\n",
        "    # Display medication recommendation\n",
        "    print(f\"Recommended Medication: {result['recommended_medication'].upper()}\")\n",
        "\n",
        "    # Display dosage if applicable\n",
        "    if result['recommended_medication'] != 'supportive_care':\n",
        "        print(f\"Recommended Dosage: {result['recommended_dosage']} mg\")\n",
        "\n",
        "    # Display full recommendation\n",
        "    print(f\"\\nFull Recommendation: {result['recommendation']}\")\n",
        "\n",
        "    # Display disclaimer\n",
        "    print(\"\\nIMPORTANT: This is a research model only. Always consult a healthcare professional.\")\n",
        "    print(\"=\"*50)"
      ]
    },
    {
      "cell_type": "code",
      "execution_count": null,
      "metadata": {
        "id": "Yzi13h-oBZil"
      },
      "outputs": [],
      "source": [
        "def main():\n",
        "    \"\"\"\n",
        "    Run the complete system from data generation to model building and user prediction interface\n",
        "    \"\"\"\n",
        "    # Generate dataset\n",
        "    df = generate_complete_dataset(1500)\n",
        "    df.to_csv('flu_medication_genetic_dataset.csv', index=False)\n",
        "\n",
        "    # Prepare data\n",
        "    print(\"\\nPreparing data for model training...\")\n",
        "    X_train, X_test, y_med_train, y_med_test, y_dosage_train, y_dosage_test, preprocessor = prepare_data(df)\n",
        "\n",
        "    # Build and evaluate medication model\n",
        "    print(\"\\nBuilding medication recommendation model...\")\n",
        "    med_model = build_medication_model(X_train, y_med_train, preprocessor)\n",
        "    med_accuracy = med_model.score(X_test, y_med_test)\n",
        "    print(f\"Medication recommendation model accuracy: {med_accuracy:.4f}\")\n",
        "\n",
        "    # Build and evaluate dosage model\n",
        "    print(\"\\nBuilding dosage prediction model...\")\n",
        "    dosage_model = build_dosage_model(X_train, y_med_train, y_dosage_train, preprocessor)\n",
        "    if dosage_model is not None:\n",
        "        mask_test = y_med_test != 'supportive_care'\n",
        "        dosage_r2 = dosage_model.score(X_test[mask_test], y_dosage_test[mask_test])\n",
        "        print(f\"Dosage prediction model R² score: {dosage_r2:.4f}\")\n",
        "\n",
        "    # Launch user prediction interface\n",
        "    user_prediction_interface()\n",
        "\n"
      ]
    },
    {
      "cell_type": "code",
      "execution_count": null,
      "metadata": {
        "colab": {
          "background_save": true,
          "base_uri": "https://localhost:8080/"
        },
        "id": "iz2duAD2Datq",
        "outputId": "ce6e5f4a-f7df-4db5-e4ae-64e9c535f29b"
      },
      "outputs": [
        {
          "name": "stdout",
          "output_type": "stream",
          "text": [
            "\n",
            "Preparing data for model training...\n",
            "\n",
            "Building medication recommendation model...\n",
            "Medication recommendation model accuracy: 0.9867\n",
            "\n",
            "Building dosage prediction model...\n",
            "Dosage prediction model R² score: 0.9665\n",
            "\n",
            "==================================================\n",
            "FLU MEDICATION AND DOSAGE PREDICTION SYSTEM\n",
            "==================================================\n",
            "\n",
            "==== FLU MEDICATION RECOMMENDATION SYSTEM ====\n",
            "Please enter the patient's information:\n",
            "\n",
            "--- Genetic Information ---\n",
            "\n",
            "CYP2D6 activity (affects drug metabolism):\n",
            "1. Poor metabolizer\n",
            "2. Intermediate metabolizer\n",
            "3. Normal metabolizer\n",
            "4. Ultrarapid metabolizer\n"
          ]
        }
      ],
      "source": [
        "# Allow running the prediction interface separately if models already exist\n",
        "if __name__ == \"__main__\":\n",
        "    import sys\n",
        "\n",
        "    # Check if user wants to skip dataset generation and model training\n",
        "    if len(sys.argv) > 1 and sys.argv[1] == \"--predict-only\":\n",
        "        print(\"Skipping dataset generation and model training...\")\n",
        "        user_prediction_interface()\n",
        "    else:\n",
        "        main()"
      ]
    },
    {
      "cell_type": "code",
      "execution_count": null,
      "metadata": {
        "id": "_f4d-cTLDdMt"
      },
      "outputs": [],
      "source": []
    }
  ],
  "metadata": {
    "colab": {
      "provenance": []
    },
    "kernelspec": {
      "display_name": "Python 3",
      "name": "python3"
    },
    "language_info": {
      "name": "python"
    }
  },
  "nbformat": 4,
  "nbformat_minor": 0
}